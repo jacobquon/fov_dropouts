{
 "cells": [
  {
   "cell_type": "markdown",
   "id": "7321abc3-947b-4d11-9b1a-15199b22f70e",
   "metadata": {},
   "source": [
    "# FOV Dropout Detection Example"
   ]
  },
  {
   "cell_type": "markdown",
   "id": "f272d0ca-fadf-4912-aad0-ac5600b9da53",
   "metadata": {},
   "source": [
    "This notebook is meant to be completed in sequential order and will walk you through all the salient steps of the dropout detection pipeline. At the end it covers some functions which may be of use for further analyses\n"
   ]
  },
  {
   "cell_type": "markdown",
   "id": "ae138a20-0cb4-44f6-bf07-abb57623fdd4",
   "metadata": {},
   "source": [
    "### Installation"
   ]
  },
  {
   "cell_type": "markdown",
   "id": "e431717d-8ddf-4335-8097-16d150222aaf",
   "metadata": {},
   "source": [
    "Move to the directory you downloaded the code to and pip install:"
   ]
  },
  {
   "cell_type": "markdown",
   "id": "59b7a0cc-95fb-4713-a4d5-35a36b540ef8",
   "metadata": {},
   "source": [
    "   `$ pip install . `"
   ]
  },
  {
   "cell_type": "markdown",
   "id": "233855e6-7247-42a3-80e0-d1c4fd7a6539",
   "metadata": {},
   "source": [
    "### Import the module"
   ]
  },
  {
   "cell_type": "code",
   "execution_count": null,
   "id": "3bbbe2e3-86a4-412c-bda2-fbdb091fa787",
   "metadata": {},
   "outputs": [],
   "source": [
    "from dropout_detection import TranscriptImage, DropoutResult"
   ]
  },
  {
   "cell_type": "markdown",
   "id": "a522eb21-1017-4133-bca6-0b4367bdcfff",
   "metadata": {},
   "source": [
    "### Read in a merscope result"
   ]
  },
  {
   "cell_type": "markdown",
   "id": "cdefbbf1-819e-4642-ac67-cd763d5a2036",
   "metadata": {},
   "source": [
    "The TranscriptImage takes in an experiment barcode and reads in the `detected_transcripts.csv` file in the barcode's directory."
   ]
  },
  {
   "cell_type": "markdown",
   "id": "28de1a86-f46d-4bd9-b6f4-6690e1075722",
   "metadata": {},
   "source": [
    "By default, it searches in `/allen/programs/celltypes/production/mfish` for the project and barcode to read in. This can be changed by setting the `merscope_out_dir` parameter. Further parameters are likely not useful and can be found in the function header in the source code."
   ]
  },
  {
   "cell_type": "code",
   "execution_count": null,
   "id": "3b12ab91-beb6-453d-a42e-ab4f82052318",
   "metadata": {},
   "outputs": [],
   "source": [
    "# Arguments\n",
    "barcode = 1233424702\n",
    "\n",
    "# Create TranscriptImage object\n",
    "ts = TranscriptImage(barcode)"
   ]
  },
  {
   "cell_type": "markdown",
   "id": "a624e0bc-8f08-42a0-ac43-a6f6931fc204",
   "metadata": {},
   "source": [
    "### Run the dropout detection pipeline"
   ]
  },
  {
   "cell_type": "markdown",
   "id": "6793e12c-928e-48c2-8471-b9f8ef5197f9",
   "metadata": {},
   "source": [
    "The `TranscriptImage.run_dropout_pipeline()` function handles all the steps in the dropout detection pipeline. It requires a path to directory to output tissue mask data into (used for determining on-tissue FOVs) and a path to the codebook for the barcode. Both of these paths can be either of type `pathlib.Path` or `str`."
   ]
  },
  {
   "cell_type": "markdown",
   "id": "1203337a-86b6-467c-8a74-2c25ebe3a7a2",
   "metadata": {},
   "source": [
    "The `TranscriptImage.run_dropout_pipeline()` function also takes kwarg `threshold` which is set to `0.15` by default"
   ]
  },
  {
   "cell_type": "code",
   "execution_count": null,
   "id": "68d71218-c574-4647-95fe-7f628680e69e",
   "metadata": {},
   "outputs": [],
   "source": [
    "# import pathlib for easier filepaths\n",
    "from pathlib import Path\n",
    "workbook_results = Path.cwd() / 'workbook_results/'\n",
    "\n",
    "# Arguments\n",
    "mask_out_dir = workbook_results / 'tissue_masks/'\n",
    "codebook_path = Path.cwd() / 'codebooks/codebook_0_wholebrain031822a_VA142.csv'\n",
    "threshold = 0.15\n",
    "\n",
    "# Detect dropouts\n",
    "ts.run_dropout_pipeline(mask_out_dir, codebook_path, threshold=threshold)"
   ]
  },
  {
   "cell_type": "markdown",
   "id": "6fe15ed6-a72b-4191-a2d2-2c08affc07ac",
   "metadata": {},
   "source": [
    "The results from the dropout detection pipeline are stored in an FOV dataframe. This can be saved to disk via either of the following functions:"
   ]
  },
  {
   "cell_type": "code",
   "execution_count": null,
   "id": "30bf30fe-3c9a-41d6-9804-f650a8ca20ce",
   "metadata": {},
   "outputs": [],
   "source": [
    "ts.save_fov_pkl(workbook_results)\n",
    "ts.save_fov_tsv(workbook_results)"
   ]
  },
  {
   "cell_type": "markdown",
   "id": "43de5537-02b7-46ac-bc8d-e5c3575401c6",
   "metadata": {},
   "source": [
    "### A note about classes"
   ]
  },
  {
   "cell_type": "markdown",
   "id": "f7471e95-009a-47d0-ada7-2a7b44179248",
   "metadata": {},
   "source": [
    "The `TranscriptImage` class is a subclass of the `DropoutResult` class, meaning it inherits all the functions and variables of the `DropoutResult` class. All of the post-dropout detection analysis functions are from the `DropoutResult` class. Thus, they can be used by the `TranscriptImage` class, but only after `TranscriptImage.run_dropout_pipeline()` is run."
   ]
  },
  {
   "cell_type": "markdown",
   "id": "be4b4827-5c28-40ff-ae4f-249a7a1a3f95",
   "metadata": {},
   "source": [
    "The reason for this separation is to allow for dropout analysis on previously run dropout pipelines. If you have the FOV table from an old dropout detection run, you can use this to create a `DropoutResult` and look at the results without needing to re-run the entire dropout detection pipeline (note that the plotting analyses will all need to load in the transcripts as well)."
   ]
  },
  {
   "cell_type": "code",
   "execution_count": null,
   "id": "fab82268-75a8-40a0-b6f3-1ac743c1a828",
   "metadata": {},
   "outputs": [],
   "source": [
    "# Example DropoutResult object, further information about DropoutResult initiation can be found at the bottom of the workbook\n",
    "dr = DropoutResult(workbook_results / f'{barcode}_fovs.pkl')"
   ]
  },
  {
   "cell_type": "markdown",
   "id": "7bfbc41f-c82c-4aed-83e8-a9e4a74d1542",
   "metadata": {},
   "source": [
    "For the remainder of the notebook, functions used will be from the `DropoutResult` class, but will be called on a `TranscriptImage` object"
   ]
  },
  {
   "cell_type": "markdown",
   "id": "e81ae326-115d-4ac3-a9da-5593c3aad996",
   "metadata": {},
   "source": [
    "### Get the dropout summary"
   ]
  },
  {
   "cell_type": "code",
   "execution_count": null,
   "id": "4b897bc5-f446-4c87-b434-96b8eaf8b9ad",
   "metadata": {},
   "outputs": [],
   "source": [
    "ts.dropout_summary()"
   ]
  },
  {
   "cell_type": "markdown",
   "id": "921c7d9d-0784-4c4a-8bcf-ec4152f45e21",
   "metadata": {},
   "source": [
    "### Draw the dropped genes"
   ]
  },
  {
   "cell_type": "markdown",
   "id": "fa12347f-b2ae-4c1a-84bd-ada4f1e4690d",
   "metadata": {},
   "source": [
    "The `DropoutResult.draw_dropped_genes()` function plots all dropped genes for an experiment. For each gene, the transcripts are plotted alone on the left and a copy of the plot with dropped FOVs highlighted is plotted on the right."
   ]
  },
  {
   "cell_type": "markdown",
   "id": "9b5af120-3ed7-4796-8e87-723fa74912e4",
   "metadata": {},
   "source": [
    "`draw_dropped_genes()` requires a directory (`pathlib.Path` or `str`) to store the drawings in. It also has a kwarg `max_genes` which limits the number of genes plotted (genes are plotted in descending order of transcript count)"
   ]
  },
  {
   "cell_type": "code",
   "execution_count": null,
   "id": "40897a78-5cfa-4fd6-a9c2-39822729dce7",
   "metadata": {},
   "outputs": [],
   "source": [
    "ts.draw_dropped_genes(workbook_results / 'images', max_genes=3)"
   ]
  },
  {
   "cell_type": "code",
   "execution_count": null,
   "id": "2b2c8dbc-161c-4d56-a231-67cc6a8b4d54",
   "metadata": {},
   "outputs": [],
   "source": [
    "# Display the genes\n",
    "from IPython.display import Image, display\n",
    "for gene in ['Slc17a7', 'Sv2b', 'Ccn3']:\n",
    "    display(Image(workbook_results / f'images/{gene}.png'))"
   ]
  },
  {
   "cell_type": "markdown",
   "id": "97c77159-c476-421c-9dd4-addee0540c89",
   "metadata": {},
   "source": [
    "### Draw a total dropout map"
   ]
  },
  {
   "cell_type": "markdown",
   "id": "e24ac595-0bcf-456b-a823-ce41b2a1eca1",
   "metadata": {},
   "source": [
    "The `DropoutResult.draw_dropped_genes()` function plots a graphical overview of the dropout across all genes and FOVs. \n",
    "\n",
    "It can optionally take the kwarg `out_file` to save the image somewhere. If an `out_file` is provided, the plot will be closed after drawing and only viewable as a file. If an `out_file` is not provided the plot will show and not be saved."
   ]
  },
  {
   "cell_type": "code",
   "execution_count": null,
   "id": "0f085c0e-02c9-47a5-9b4f-09f5879bfdc9",
   "metadata": {},
   "outputs": [],
   "source": [
    "# Args\n",
    "out_file = workbook_results / 'images/total_dropout_map.png'\n",
    "\n",
    "# ts.draw_total_dropout_map(out_file=out_file)\n",
    "ts.draw_total_dropout_map()"
   ]
  },
  {
   "cell_type": "markdown",
   "id": "a849206d-f20d-4578-b0d3-73b639f4e497",
   "metadata": {},
   "source": [
    "# Further Analyses"
   ]
  },
  {
   "cell_type": "markdown",
   "id": "e654ecf4-cf35-4e2f-a909-4a8dcee4deae",
   "metadata": {},
   "source": [
    "### The DropoutResult Class"
   ]
  },
  {
   "cell_type": "markdown",
   "id": "8a69e3df-0cbb-49f1-bed0-9c9bffa98ab4",
   "metadata": {},
   "source": [
    "Doing any of the image-based analyses requires a transcripts DataFrame. To get a transcripts DataFrame, either provide a previously read  DataFrame or provide an experiment barcode (like how you did for the `TranscriptImage` class."
   ]
  },
  {
   "cell_type": "markdown",
   "id": "04405f0a-b38e-4c3e-97aa-8a916c7a1402",
   "metadata": {},
   "source": [
    "**Args:**\n",
    "\n",
    "**fovs (pd.DataFrame/str/Path):** FOV table with stored results\n",
    "\n",
    "**transcripts (pd.DataFrame) [default=None]:** pandas dataframe of transcript information for the experiment\n",
    "\n",
    "**experiment_id (int) [default=-1]:** id for the experiment. Used to read in transcript information if transcripts argument is not provided\n",
    "\n",
    "**merscope_out_dir (str/path) [default='/allen/programs/celltypes/production/mfish']:** Merscopes output directory (contains all projects) for reading transcripts via experiment_id\n",
    "\n",
    "**project (str) [default='']:** Name of the project the experiment is in for reading transcripts via experiment_id. If unspecified, found automatically.\n",
    "\n",
    "**region (int) [default=0]:** region which holds the transcripts of interest for reading transcripts via experiment_id"
   ]
  },
  {
   "cell_type": "markdown",
   "id": "d6440dce-9b3f-49fa-8a4f-99d0b8253fc3",
   "metadata": {},
   "source": [
    "### Draw a gene"
   ]
  },
  {
   "cell_type": "markdown",
   "id": "f4951e4c-d410-4020-b990-a5c7facdd08b",
   "metadata": {},
   "source": [
    "If you would like to draw a specific gene and view its dropout, use `DropoutResult.draw_dropout()`. \n",
    "\n",
    "`draw_dropout()` requires a gene as an argument. It also takes the kwarg `out_file`. If an `out_file` is provided, the plot will be closed after drawing and only viewable as a file. If an `out_file` is not provided the plot will show and not be saved."
   ]
  },
  {
   "cell_type": "code",
   "execution_count": null,
   "id": "4c5b71ff-4beb-4cad-b736-4f5b829a1cbf",
   "metadata": {},
   "outputs": [],
   "source": [
    "ts.draw_dropout('Fxyd6')"
   ]
  },
  {
   "cell_type": "markdown",
   "id": "aa6a2418-88fc-4e5f-8a17-38105529c329",
   "metadata": {},
   "source": [
    "### Draw a representative set of genes"
   ]
  },
  {
   "cell_type": "markdown",
   "id": "c0000195-c3b6-4203-830e-16fa143d30b3",
   "metadata": {},
   "source": [
    "`DropoutResult.draw_top_mid_bot()` draws (by transcript count) the top 20 genes, bottom 10 gene, and a subset of 10 genes in the center starting from the last gene to average 100 transcripts per FOV. Depending on transcript count, this function can take a while!"
   ]
  },
  {
   "cell_type": "code",
   "execution_count": null,
   "id": "c156ec8f-02e3-459a-b45a-ec240fbc4693",
   "metadata": {},
   "outputs": [],
   "source": [
    "ts.draw_top_mid_bot(output_dir / 'images')"
   ]
  },
  {
   "cell_type": "markdown",
   "id": "16dcda61-2969-4b15-96da-60f0b006448e",
   "metadata": {},
   "source": [
    "### Dropped Gene Analysis Functions"
   ]
  },
  {
   "cell_type": "markdown",
   "id": "365a2b82-7798-4d21-ab99-6dc5b0d3d0ba",
   "metadata": {},
   "source": [
    "`DropoutResult.get_dropped_genes(self, fov=-1, dic=False)`\n",
    "\n",
    "    Get a list of the dropped genes. If an FOV is specified, gets the list of dropped genes for specified FOV. If dic=True, creates a dictionary of FOVs and dropped genes\n",
    "\n",
    "    Args:\n",
    "        fov (int) [default=-1]: If specified will return the dropped genes for the specified FOV\n",
    "        dic (bool) [default=False]: If True, will return a dictionary of FOVs and dropped genes\n",
    "\n",
    "`DropoutResult.get_dropped_gene_counts(self, fov=-1, dic=False)`\n",
    "\n",
    "    Get the number of dropped genes. If an FOV is specified, gets the number of dropped genes for specified FOV. If dic=True, creates a dictionary of FOVs and dropped gene counts\n",
    "\n",
    "    Args:\n",
    "        fov (int) [default=-1]: If specified will return the number of dropped genes for the specified FOV\n",
    "        dic (bool) [default=False]: If True, will return a dictionary of FOVs and dropped gene counts\n",
    "\n",
    "`DropoutResult.get_considered_genes(self, fov=-1, dic=False)`\n",
    "\n",
    "    Get a list of all genes with at least 1 FOV considered for dropout. An FOV is considered for dropout only if its 4 cardinal neighbors average at least 100 transcripts. \n",
    "    If an FOV is specified, gets list for the specified FOV\n",
    "    If dic is set to True, returns a dictionary of considered genes for each considered fov\n",
    "\n",
    "    Args:\n",
    "        fov (int) [default=-1]: If specified will return the list of considered genes for the specified FOV\n",
    "        dic (bool) [default=False]: If set to True, returns a dictionary of considered fovs and considered genes \n",
    "        \n",
    "`DropoutResult.get_considered_gene_counts(self, fov=-1, dic=False)`\n",
    "\n",
    "    Get the number of genes with at least 1 FOV considered for dropout. An FOV is considered for dropout only if its 4 cardinal neighbors average at least 100 transcripts.\n",
    "    If an FOV is specified, get the number of genes for which the FOV was considered\n",
    "    If dic is set to True, returns a dictionary of the number of considered genes for each considered fov\n",
    "\n",
    "    Args:\n",
    "        fov (int) [default=-1]: If specified will return the number considered genes for the specified FOV\n",
    "        dic (bool) [default=False]: If set to True, returns a dictionary of considered fovs and number of considered genes \n",
    "        \n",
    "`DropoutResult.get_false_positive_genes(self, fov=-1, dic=False)`\n",
    "\n",
    "    Get a list of all genes which had an FOV which was determined not dropped due to False Positive Correction. If an FOV is specified, get a list of all false positive genes for that FOV. If dic=True, return a dictionary of fovs and their false positive genes.\n",
    "\n",
    "    Args:\n",
    "        fov (int) [default=-1]: If specified, return false positive genes for a specific FOV\n",
    "        dic (bool) [default=False]: If specified, return dictionary of FOVs and their false positive genes\n",
    "\n",
    "`DropoutResult.get_false_positive_gene_counts(self, fov=-1, dic=False)`\n",
    "\n",
    "    Get the number genes which had an FOV which was determined not dropped due to False Positive Correction. If an FOV is specified, get the number of false positive genes for that FOV. If dic=True, return a dictionary of fovs and their false positive gene counts\n",
    "\n",
    "    Args:\n",
    "        fov (int) [default=-1]: If specified, return the number of false positive genes for a specific FOV\n",
    "        dic (bool) [default=False]: If specified, return dictionary of FOVs and their false positive gene counts\n"
   ]
  },
  {
   "cell_type": "markdown",
   "id": "69b621bd-acb3-4b1a-a753-e426288d13e1",
   "metadata": {},
   "source": [
    "### Dropped FOV Analysis Functions"
   ]
  },
  {
   "cell_type": "markdown",
   "id": "fcf305e9-9619-4e54-88e5-076d5c41c64f",
   "metadata": {},
   "source": [
    "`DropoutResult.get_dropped_fovs(self, gene='', dic=False)`\n",
    "\n",
    "    Get a list of dropped FOVs. If a gene is specified, gets a list of dropped FOVs for specified gene. If dic=True return a dictionary of genes and dropped FOVs\n",
    "\n",
    "    Args:\n",
    "        gene (str) [default='']: If specified will return the dropped FOVs for the specified gene\n",
    "        dic (bool) [default=False]: If True, will return a dictionary of genes and their dropped FOVs\n",
    "        \n",
    "`DropoutResult.get_dropped_fov_counts(self, gene='', dic=False)`\n",
    "\n",
    "    Get the number of unique dropped FOVs. If a gene is specified, gets the number of dropped FOVs for specified gene. If dic=True return a dictionary of genes and dropped FOV counts\n",
    "\n",
    "    Args:\n",
    "        gene (str) [default='']: If specified will return the dropped FOV count for the specified gene\n",
    "        dic (bool) [default=False]: If True, will return a dictionary of genes and their dropped FOV counts\n",
    "\n",
    "`DropoutResult.get_considered_fovs(self)`\n",
    "\n",
    "    Get a list of all on-tissue FOVs\n",
    "\n",
    "`DropoutResult.get_considered_fov_counts(self)`\n",
    "\n",
    "    Get a the number of on-tissue FOVs\n",
    "\n",
    "`DropoutResult.get_false_positive_fovs(self, gene='', dic=False)`\n",
    "\n",
    "    Get a list of all FOVs which were not considered dropped due to False Positive Correction. If a gene is specified, return the false positive FOVs for that gene. If dic=True, return a dictionary of false positive FOVs for each gene\n",
    "\n",
    "    Args:\n",
    "        gene (str) [default='']: If specififed, return false positive FOVs for that gene\n",
    "        dic (bool) [default=False]: If True, return a dictionary of genes and their false positive FOVs\n",
    "\n",
    "`DropoutResult.get_false_positive_fov_counts(self, gene='', dic=False)`\n",
    "\n",
    "    Get a the number of FOVs which were not considered dropped due to False Positive Correction. If a gene is specified, return the number of false positive FOVs for that gene. If dic=True, return a dictionary of false positive FOV counts for each gene\n",
    "\n",
    "    Args:\n",
    "        gene (str) [default='']: If specififed, return false positive FOVs for that gene\n",
    "        dic (bool) [default=False]: If True, return a dictionary of genes and their false positive FOVs"
   ]
  },
  {
   "cell_type": "markdown",
   "id": "1e6108d1-64ce-4982-85c4-bc4590d8fcaf",
   "metadata": {},
   "source": [
    "### Miscellaneous Analysis Functions"
   ]
  },
  {
   "cell_type": "markdown",
   "id": "c1ab135f-06a1-4699-831a-65d50912f748",
   "metadata": {},
   "source": [
    "`DropoutResult.get_dropout_count(self)`\n",
    "\n",
    "    Get the total number of dropped FOVs."
   ]
  }
 ],
 "metadata": {
  "kernelspec": {
   "display_name": "Python 3 (ipykernel)",
   "language": "python",
   "name": "python3"
  },
  "language_info": {
   "codemirror_mode": {
    "name": "ipython",
    "version": 3
   },
   "file_extension": ".py",
   "mimetype": "text/x-python",
   "name": "python",
   "nbconvert_exporter": "python",
   "pygments_lexer": "ipython3",
   "version": "3.10.12"
  }
 },
 "nbformat": 4,
 "nbformat_minor": 5
}
